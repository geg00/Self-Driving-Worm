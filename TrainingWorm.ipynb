{
 "cells": [
  {
   "cell_type": "code",
   "execution_count": 1,
   "metadata": {},
   "outputs": [
    {
     "name": "stderr",
     "output_type": "stream",
     "text": [
      "Using TensorFlow backend.\n"
     ]
    }
   ],
   "source": [
    "import numpy as np\n",
    "from __future__ import print_function\n",
    "import keras\n",
    "from keras.datasets import mnist\n",
    "from keras.models import Sequential\n",
    "from keras.layers import Dense, Dropout, Flatten\n",
    "from keras.layers import Conv2D, MaxPooling2D\n",
    "from keras import backend as K\n",
    "from keras.callbacks import TensorBoard\n",
    "import random"
   ]
  },
  {
   "cell_type": "code",
   "execution_count": 2,
   "metadata": {
    "collapsed": true
   },
   "outputs": [],
   "source": [
    "WIDTH = 80\n",
    "HEIGHT = 60\n",
    "img_rows, img_cols = WIDTH, HEIGHT\n",
    "input_shape = (WIDTH,HEIGHT,3)\n",
    "LR = 1e-3\n",
    "EPOCHS = 150\n",
    "MODEL_NAME = 'new_slither-{}-{}-{}-epochs.model'.format(LR, 'convnets',EPOCHS)"
   ]
  },
  {
   "cell_type": "code",
   "execution_count": 3,
   "metadata": {},
   "outputs": [
    {
     "name": "stdout",
     "output_type": "stream",
     "text": [
      "_________________________________________________________________\n",
      "Layer (type)                 Output Shape              Param #   \n",
      "=================================================================\n",
      "conv2d_1 (Conv2D)            (None, 38, 28, 24)        1824      \n",
      "_________________________________________________________________\n",
      "conv2d_2 (Conv2D)            (None, 17, 12, 36)        21636     \n",
      "_________________________________________________________________\n",
      "conv2d_3 (Conv2D)            (None, 7, 4, 48)          43248     \n",
      "_________________________________________________________________\n",
      "conv2d_4 (Conv2D)            (None, 5, 2, 64)          27712     \n",
      "_________________________________________________________________\n",
      "dropout_1 (Dropout)          (None, 5, 2, 64)          0         \n",
      "_________________________________________________________________\n",
      "flatten_1 (Flatten)          (None, 640)               0         \n",
      "_________________________________________________________________\n",
      "dense_1 (Dense)              (None, 100)               64100     \n",
      "_________________________________________________________________\n",
      "dense_2 (Dense)              (None, 50)                5050      \n",
      "_________________________________________________________________\n",
      "dense_3 (Dense)              (None, 10)                510       \n",
      "_________________________________________________________________\n",
      "dense_4 (Dense)              (None, 9)                 99        \n",
      "=================================================================\n",
      "Total params: 164,179\n",
      "Trainable params: 164,179\n",
      "Non-trainable params: 0\n",
      "_________________________________________________________________\n"
     ]
    }
   ],
   "source": [
    "model = Sequential()\n",
    "#model.add(Conv2D(32, kernel_size=(3, 3),\n",
    "#                 activation=keras.activations.relu,\n",
    "#                 input_shape=input_shape, strides=(1,1)))\n",
    "#model.add(Conv2D(64, (3, 3), activation=keras.activations.relu))\n",
    "#model.add(MaxPooling2D(pool_size=(2, 2)))\n",
    "#model.add(Dropout(0.25))\n",
    "#model.add(Flatten())\n",
    "#model.add(Dense(128, activation=keras.activations.relu))\n",
    "#model.add(Dropout(0.5))\n",
    "#model.add(Dense(1))\n",
    "#model.summary()\n",
    "model.add(Conv2D(24, (5, 5), activation='elu', strides=(2, 2), input_shape=input_shape,))\n",
    "model.add(Conv2D(36, (5, 5), activation='elu', strides=(2, 2)))\n",
    "model.add(Conv2D(48, (5, 5), activation='elu', strides=(2, 2)))\n",
    "model.add(Conv2D(64, (3, 3), activation='elu'))\n",
    "model.add(Dropout(0.5))\n",
    "model.add(Flatten())\n",
    "model.add(Dense(100, activation='elu'))\n",
    "model.add(Dense(50, activation='elu'))\n",
    "model.add(Dense(10, activation='elu'))\n",
    "model.add(Dense(9, activation='softmax'))\n",
    "model.summary()"
   ]
  },
  {
   "cell_type": "code",
   "execution_count": 4,
   "metadata": {},
   "outputs": [
    {
     "data": {
      "text/plain": [
       "12000"
      ]
     },
     "execution_count": 4,
     "metadata": {},
     "output_type": "execute_result"
    }
   ],
   "source": [
    "train_data = np.load('slither_data_new.npy')\n",
    "train_data.shape[0]"
   ]
  },
  {
   "cell_type": "code",
   "execution_count": 5,
   "metadata": {
    "collapsed": true
   },
   "outputs": [],
   "source": [
    "#model.load_weights('slither-0.001-convnets-1000-epochs.model')"
   ]
  },
  {
   "cell_type": "code",
   "execution_count": 6,
   "metadata": {
    "scrolled": true
   },
   "outputs": [
    {
     "name": "stdout",
     "output_type": "stream",
     "text": [
      "(12000, 80, 60, 3) (12000, 2)\n",
      "Train on 10800 samples, validate on 1200 samples\n",
      "Epoch 1/150\n",
      "10800/10800 [==============================] - 40s - loss: 0.5733 - acc: 0.8681 - val_loss: 0.3216 - val_acc: 0.9458\n",
      "Epoch 2/150\n",
      "10800/10800 [==============================] - 37s - loss: 0.3665 - acc: 0.9304 - val_loss: 0.2446 - val_acc: 0.9458\n",
      "Epoch 3/150\n",
      "10800/10800 [==============================] - 37s - loss: 0.2783 - acc: 0.9327 - val_loss: 0.1924 - val_acc: 0.9558\n",
      "Epoch 4/150\n",
      "10800/10800 [==============================] - 36s - loss: 0.2090 - acc: 0.9481 - val_loss: 0.1892 - val_acc: 0.9575\n",
      "Epoch 5/150\n",
      "10800/10800 [==============================] - 36s - loss: 0.1875 - acc: 0.9503 - val_loss: 0.1655 - val_acc: 0.9658\n",
      "Epoch 6/150\n",
      "10800/10800 [==============================] - 36s - loss: 0.1702 - acc: 0.9544 - val_loss: 0.1874 - val_acc: 0.9592\n",
      "Epoch 7/150\n",
      "10800/10800 [==============================] - 36s - loss: 0.1616 - acc: 0.9566 - val_loss: 0.1682 - val_acc: 0.9650\n",
      "Epoch 8/150\n",
      "10800/10800 [==============================] - 37s - loss: 0.1463 - acc: 0.9601 - val_loss: 0.1961 - val_acc: 0.9450\n",
      "Epoch 9/150\n",
      "10800/10800 [==============================] - 39s - loss: 0.1394 - acc: 0.9612 - val_loss: 0.1877 - val_acc: 0.9617\n",
      "Epoch 10/150\n",
      "10800/10800 [==============================] - 39s - loss: 0.1274 - acc: 0.9645 - val_loss: 0.1845 - val_acc: 0.9625\n",
      "Epoch 11/150\n",
      "10800/10800 [==============================] - 37s - loss: 0.1189 - acc: 0.9666 - val_loss: 0.1851 - val_acc: 0.9575\n",
      "Epoch 12/150\n",
      "10800/10800 [==============================] - 36s - loss: 0.1139 - acc: 0.9675 - val_loss: 0.1786 - val_acc: 0.9592\n",
      "Epoch 13/150\n",
      "10800/10800 [==============================] - 37s - loss: 0.1086 - acc: 0.9682 - val_loss: 0.1869 - val_acc: 0.9625\n",
      "Epoch 14/150\n",
      "10800/10800 [==============================] - 37s - loss: 0.1019 - acc: 0.9701 - val_loss: 0.1962 - val_acc: 0.9608\n",
      "Epoch 15/150\n",
      "10800/10800 [==============================] - 37s - loss: 0.0985 - acc: 0.9718 - val_loss: 0.2064 - val_acc: 0.9567\n",
      "Epoch 16/150\n",
      "10800/10800 [==============================] - 39s - loss: 0.0881 - acc: 0.9737 - val_loss: 0.2079 - val_acc: 0.9567\n",
      "Epoch 17/150\n",
      "10800/10800 [==============================] - 38s - loss: 0.0896 - acc: 0.9740 - val_loss: 0.2120 - val_acc: 0.9533\n",
      "Epoch 18/150\n",
      "10800/10800 [==============================] - 37s - loss: 0.0802 - acc: 0.9744 - val_loss: 0.2173 - val_acc: 0.9408\n",
      "Epoch 19/150\n",
      "10800/10800 [==============================] - 37s - loss: 0.0781 - acc: 0.9764 - val_loss: 0.2416 - val_acc: 0.9383\n",
      "Epoch 20/150\n",
      "10800/10800 [==============================] - 37s - loss: 0.0711 - acc: 0.9790 - val_loss: 0.2456 - val_acc: 0.9433\n",
      "Epoch 21/150\n",
      "10800/10800 [==============================] - 38s - loss: 0.0728 - acc: 0.9787 - val_loss: 0.2455 - val_acc: 0.9550\n",
      "Epoch 22/150\n",
      "10800/10800 [==============================] - 37s - loss: 0.0631 - acc: 0.9801 - val_loss: 0.2565 - val_acc: 0.9500\n",
      "Epoch 23/150\n",
      "10800/10800 [==============================] - 35s - loss: 0.0628 - acc: 0.9826 - val_loss: 0.2764 - val_acc: 0.9417\n",
      "Epoch 24/150\n",
      "10800/10800 [==============================] - 35s - loss: 0.0608 - acc: 0.9801 - val_loss: 0.2417 - val_acc: 0.9542\n",
      "Epoch 25/150\n",
      "10800/10800 [==============================] - 36s - loss: 0.0539 - acc: 0.9822 - val_loss: 0.2665 - val_acc: 0.9517\n",
      "Epoch 26/150\n",
      "10800/10800 [==============================] - 35s - loss: 0.0510 - acc: 0.9837 - val_loss: 0.2817 - val_acc: 0.9450\n",
      "Epoch 27/150\n",
      "10800/10800 [==============================] - 35s - loss: 0.0500 - acc: 0.9850 - val_loss: 0.2904 - val_acc: 0.9508\n",
      "Epoch 28/150\n",
      "10800/10800 [==============================] - 35s - loss: 0.0479 - acc: 0.9851 - val_loss: 0.2978 - val_acc: 0.9458\n",
      "Epoch 29/150\n",
      "10800/10800 [==============================] - 35s - loss: 0.0439 - acc: 0.9853 - val_loss: 0.3019 - val_acc: 0.9525\n",
      "Epoch 30/150\n",
      "10800/10800 [==============================] - 35s - loss: 0.0451 - acc: 0.9856 - val_loss: 0.3058 - val_acc: 0.9525\n",
      "Epoch 31/150\n",
      "10800/10800 [==============================] - 35s - loss: 0.0425 - acc: 0.9869 - val_loss: 0.2949 - val_acc: 0.9458\n",
      "Epoch 32/150\n",
      "10800/10800 [==============================] - 35s - loss: 0.0402 - acc: 0.9873 - val_loss: 0.2857 - val_acc: 0.9492\n",
      "Epoch 33/150\n",
      "10800/10800 [==============================] - 35s - loss: 0.0398 - acc: 0.9886 - val_loss: 0.2839 - val_acc: 0.9442\n",
      "Epoch 34/150\n",
      "10800/10800 [==============================] - 36s - loss: 0.0368 - acc: 0.9877 - val_loss: 0.2915 - val_acc: 0.9450\n",
      "Epoch 35/150\n",
      "10800/10800 [==============================] - 37s - loss: 0.0363 - acc: 0.9881 - val_loss: 0.3118 - val_acc: 0.9400\n",
      "Epoch 36/150\n",
      "10800/10800 [==============================] - 35s - loss: 0.0359 - acc: 0.9877 - val_loss: 0.3094 - val_acc: 0.9517\n",
      "Epoch 37/150\n",
      "10800/10800 [==============================] - 35s - loss: 0.0353 - acc: 0.9881 - val_loss: 0.3489 - val_acc: 0.9358\n",
      "Epoch 38/150\n",
      "10800/10800 [==============================] - 37s - loss: 0.0301 - acc: 0.9902 - val_loss: 0.3747 - val_acc: 0.9350\n",
      "Epoch 39/150\n",
      "10800/10800 [==============================] - 36s - loss: 0.0363 - acc: 0.9869 - val_loss: 0.3164 - val_acc: 0.9442\n",
      "Epoch 40/150\n",
      "10800/10800 [==============================] - 35s - loss: 0.0293 - acc: 0.9896 - val_loss: 0.3298 - val_acc: 0.9425\n",
      "Epoch 41/150\n",
      "10800/10800 [==============================] - 35s - loss: 0.0290 - acc: 0.9900 - val_loss: 0.3351 - val_acc: 0.9408\n",
      "Epoch 42/150\n",
      "10800/10800 [==============================] - 36s - loss: 0.0283 - acc: 0.9905 - val_loss: 0.3834 - val_acc: 0.9367\n",
      "Epoch 43/150\n",
      "10800/10800 [==============================] - 35s - loss: 0.0282 - acc: 0.9900 - val_loss: 0.3759 - val_acc: 0.9425\n",
      "Epoch 44/150\n",
      "10800/10800 [==============================] - 35s - loss: 0.0252 - acc: 0.9910 - val_loss: 0.3720 - val_acc: 0.9450\n",
      "Epoch 45/150\n",
      "10800/10800 [==============================] - 35s - loss: 0.0309 - acc: 0.9889 - val_loss: 0.3300 - val_acc: 0.9492\n",
      "Epoch 46/150\n",
      "10800/10800 [==============================] - 36s - loss: 0.0242 - acc: 0.9915 - val_loss: 0.4043 - val_acc: 0.9375\n",
      "Epoch 47/150\n",
      "10800/10800 [==============================] - 36s - loss: 0.0268 - acc: 0.9916 - val_loss: 0.4264 - val_acc: 0.9392\n",
      "Epoch 48/150\n",
      "10800/10800 [==============================] - 35s - loss: 0.0256 - acc: 0.9911 - val_loss: 0.3895 - val_acc: 0.9367\n",
      "Epoch 49/150\n",
      "10800/10800 [==============================] - 35s - loss: 0.0234 - acc: 0.9925 - val_loss: 0.3798 - val_acc: 0.9400\n",
      "Epoch 50/150\n",
      "10800/10800 [==============================] - 36s - loss: 0.0238 - acc: 0.9921 - val_loss: 0.4081 - val_acc: 0.9300\n",
      "Epoch 51/150\n",
      "10800/10800 [==============================] - 35s - loss: 0.0249 - acc: 0.9919 - val_loss: 0.3806 - val_acc: 0.9408\n",
      "Epoch 52/150\n",
      "10800/10800 [==============================] - 36s - loss: 0.0197 - acc: 0.9933 - val_loss: 0.3861 - val_acc: 0.9425\n",
      "Epoch 53/150\n",
      "10800/10800 [==============================] - 36s - loss: 0.0227 - acc: 0.9916 - val_loss: 0.4054 - val_acc: 0.9425\n",
      "Epoch 54/150\n",
      "10800/10800 [==============================] - 36s - loss: 0.0211 - acc: 0.9931 - val_loss: 0.4271 - val_acc: 0.9358\n",
      "Epoch 55/150\n",
      "10800/10800 [==============================] - 36s - loss: 0.0245 - acc: 0.9916 - val_loss: 0.4239 - val_acc: 0.9367\n",
      "Epoch 56/150\n",
      "10800/10800 [==============================] - 36s - loss: 0.0186 - acc: 0.9936 - val_loss: 0.4004 - val_acc: 0.9400\n",
      "Epoch 57/150\n",
      "10800/10800 [==============================] - 36s - loss: 0.0234 - acc: 0.9923 - val_loss: 0.3765 - val_acc: 0.9392\n",
      "Epoch 58/150\n",
      "10800/10800 [==============================] - 35s - loss: 0.0186 - acc: 0.9934 - val_loss: 0.3997 - val_acc: 0.9458\n",
      "Epoch 59/150\n",
      "10800/10800 [==============================] - 35s - loss: 0.0216 - acc: 0.9931 - val_loss: 0.3933 - val_acc: 0.9383\n",
      "Epoch 60/150\n",
      "10800/10800 [==============================] - 38s - loss: 0.0175 - acc: 0.9936 - val_loss: 0.4138 - val_acc: 0.9400\n",
      "Epoch 61/150\n",
      "10800/10800 [==============================] - 36s - loss: 0.0165 - acc: 0.9940 - val_loss: 0.4667 - val_acc: 0.9350\n",
      "Epoch 62/150\n",
      "10800/10800 [==============================] - 36s - loss: 0.0166 - acc: 0.9940 - val_loss: 0.4334 - val_acc: 0.9383\n",
      "Epoch 63/150\n"
     ]
    },
    {
     "name": "stdout",
     "output_type": "stream",
     "text": [
      "10800/10800 [==============================] - 35s - loss: 0.0191 - acc: 0.9929 - val_loss: 0.4944 - val_acc: 0.9333\n",
      "Epoch 64/150\n",
      "10800/10800 [==============================] - 35s - loss: 0.0183 - acc: 0.9931 - val_loss: 0.4587 - val_acc: 0.9342\n",
      "Epoch 65/150\n",
      "10800/10800 [==============================] - 35s - loss: 0.0194 - acc: 0.9929 - val_loss: 0.4396 - val_acc: 0.9408\n",
      "Epoch 66/150\n",
      "10800/10800 [==============================] - 35s - loss: 0.0157 - acc: 0.9941 - val_loss: 0.4495 - val_acc: 0.9367\n",
      "Epoch 67/150\n",
      "10800/10800 [==============================] - 36s - loss: 0.0154 - acc: 0.9945 - val_loss: 0.4518 - val_acc: 0.9450\n",
      "Epoch 68/150\n",
      "10800/10800 [==============================] - 35s - loss: 0.0261 - acc: 0.9922 - val_loss: 0.4720 - val_acc: 0.9383\n",
      "Epoch 69/150\n",
      "10800/10800 [==============================] - 35s - loss: 0.0190 - acc: 0.9933 - val_loss: 0.4583 - val_acc: 0.9392\n",
      "Epoch 70/150\n",
      "10800/10800 [==============================] - 37s - loss: 0.0155 - acc: 0.9940 - val_loss: 0.4290 - val_acc: 0.9442\n",
      "Epoch 71/150\n",
      "10800/10800 [==============================] - 35s - loss: 0.0183 - acc: 0.9936 - val_loss: 0.4701 - val_acc: 0.9367\n",
      "Epoch 72/150\n",
      "10800/10800 [==============================] - 35s - loss: 0.0174 - acc: 0.9940 - val_loss: 0.4998 - val_acc: 0.9433\n",
      "Epoch 73/150\n",
      "10800/10800 [==============================] - 35s - loss: 0.0173 - acc: 0.9940 - val_loss: 0.4555 - val_acc: 0.9442\n",
      "Epoch 74/150\n",
      "10800/10800 [==============================] - 35s - loss: 0.0136 - acc: 0.9951 - val_loss: 0.4787 - val_acc: 0.9342\n",
      "Epoch 75/150\n",
      "10800/10800 [==============================] - 35s - loss: 0.0185 - acc: 0.9932 - val_loss: 0.4777 - val_acc: 0.9392\n",
      "Epoch 76/150\n",
      "10800/10800 [==============================] - 35s - loss: 0.0137 - acc: 0.9948 - val_loss: 0.4160 - val_acc: 0.9400\n",
      "Epoch 77/150\n",
      "10800/10800 [==============================] - 35s - loss: 0.0151 - acc: 0.9946 - val_loss: 0.5233 - val_acc: 0.9350\n",
      "Epoch 78/150\n",
      "10800/10800 [==============================] - 35s - loss: 0.0144 - acc: 0.9951 - val_loss: 0.5127 - val_acc: 0.9367\n",
      "Epoch 79/150\n",
      "10800/10800 [==============================] - 35s - loss: 0.0137 - acc: 0.9950 - val_loss: 0.5143 - val_acc: 0.9383\n",
      "Epoch 80/150\n",
      "10800/10800 [==============================] - 35s - loss: 0.0147 - acc: 0.9951 - val_loss: 0.4665 - val_acc: 0.9400\n",
      "Epoch 81/150\n",
      "10800/10800 [==============================] - 36s - loss: 0.0133 - acc: 0.9949 - val_loss: 0.4852 - val_acc: 0.9383\n",
      "Epoch 82/150\n",
      "10800/10800 [==============================] - 35s - loss: 0.0169 - acc: 0.9950 - val_loss: 0.4835 - val_acc: 0.9400\n",
      "Epoch 83/150\n",
      "10800/10800 [==============================] - 35s - loss: 0.0135 - acc: 0.9948 - val_loss: 0.4501 - val_acc: 0.9442\n",
      "Epoch 84/150\n",
      "10800/10800 [==============================] - 35s - loss: 0.0135 - acc: 0.9949 - val_loss: 0.4754 - val_acc: 0.9442\n",
      "Epoch 85/150\n",
      "10800/10800 [==============================] - 37s - loss: 0.0158 - acc: 0.9947 - val_loss: 0.4296 - val_acc: 0.9442\n",
      "Epoch 86/150\n",
      "10800/10800 [==============================] - 36s - loss: 0.0139 - acc: 0.9952 - val_loss: 0.4150 - val_acc: 0.9525\n",
      "Epoch 87/150\n",
      "10800/10800 [==============================] - 37s - loss: 0.0147 - acc: 0.9953 - val_loss: 0.4527 - val_acc: 0.9392\n",
      "Epoch 88/150\n",
      "10800/10800 [==============================] - 35s - loss: 0.0133 - acc: 0.9948 - val_loss: 0.4558 - val_acc: 0.9450\n",
      "Epoch 89/150\n",
      "10800/10800 [==============================] - 35s - loss: 0.0136 - acc: 0.9953 - val_loss: 0.4944 - val_acc: 0.9392\n",
      "Epoch 90/150\n",
      "10800/10800 [==============================] - 38s - loss: 0.0110 - acc: 0.9957 - val_loss: 0.4797 - val_acc: 0.9342\n",
      "Epoch 91/150\n",
      "10800/10800 [==============================] - 36s - loss: 0.0135 - acc: 0.9947 - val_loss: 0.5012 - val_acc: 0.9350\n",
      "Epoch 92/150\n",
      "10800/10800 [==============================] - 35s - loss: 0.0096 - acc: 0.9964 - val_loss: 0.5376 - val_acc: 0.9383\n",
      "Epoch 93/150\n",
      "10800/10800 [==============================] - 35s - loss: 0.0170 - acc: 0.9948 - val_loss: 0.5000 - val_acc: 0.9375\n",
      "Epoch 94/150\n",
      "10800/10800 [==============================] - 35s - loss: 0.0116 - acc: 0.9962 - val_loss: 0.4521 - val_acc: 0.9442\n",
      "Epoch 95/150\n",
      "10800/10800 [==============================] - 35s - loss: 0.0149 - acc: 0.9950 - val_loss: 0.5275 - val_acc: 0.9400\n",
      "Epoch 96/150\n",
      " 2500/10800 [=====>........................] - ETA: 26s - loss: 0.0156 - acc: 0.9944"
     ]
    },
    {
     "ename": "KeyboardInterrupt",
     "evalue": "",
     "output_type": "error",
     "traceback": [
      "\u001b[1;31m---------------------------------------------------------------------------\u001b[0m",
      "\u001b[1;31mKeyboardInterrupt\u001b[0m                         Traceback (most recent call last)",
      "\u001b[1;32m<ipython-input-6-5a0a60e289d7>\u001b[0m in \u001b[0;36m<module>\u001b[1;34m()\u001b[0m\n\u001b[0;32m      8\u001b[0m \u001b[1;31m#test_y = [j[1] for j in test]\u001b[0m\u001b[1;33m\u001b[0m\u001b[1;33m\u001b[0m\u001b[0m\n\u001b[0;32m      9\u001b[0m model.fit(X, real_Y, epochs=EPOCHS, batch_size=500,\n\u001b[1;32m---> 10\u001b[1;33m              verbose=1, validation_split=0.1,  callbacks=[TensorBoard(log_dir='./logs/', write_images=True)])\n\u001b[0m\u001b[0;32m     11\u001b[0m \u001b[1;31m# tensorboard --logdir=foo:C:/Users/hbb9279/Desktop/ai/log\u001b[0m\u001b[1;33m\u001b[0m\u001b[1;33m\u001b[0m\u001b[0m\n",
      "\u001b[1;32mC:\\Users\\hbb9279\\AppData\\Local\\Continuum\\Anaconda4\\envs\\cars\\lib\\site-packages\\keras\\models.py\u001b[0m in \u001b[0;36mfit\u001b[1;34m(self, x, y, batch_size, epochs, verbose, callbacks, validation_split, validation_data, shuffle, class_weight, sample_weight, initial_epoch, **kwargs)\u001b[0m\n\u001b[0;32m    854\u001b[0m                               \u001b[0mclass_weight\u001b[0m\u001b[1;33m=\u001b[0m\u001b[0mclass_weight\u001b[0m\u001b[1;33m,\u001b[0m\u001b[1;33m\u001b[0m\u001b[0m\n\u001b[0;32m    855\u001b[0m                               \u001b[0msample_weight\u001b[0m\u001b[1;33m=\u001b[0m\u001b[0msample_weight\u001b[0m\u001b[1;33m,\u001b[0m\u001b[1;33m\u001b[0m\u001b[0m\n\u001b[1;32m--> 856\u001b[1;33m                               initial_epoch=initial_epoch)\n\u001b[0m\u001b[0;32m    857\u001b[0m \u001b[1;33m\u001b[0m\u001b[0m\n\u001b[0;32m    858\u001b[0m     def evaluate(self, x, y, batch_size=32, verbose=1,\n",
      "\u001b[1;32mC:\\Users\\hbb9279\\AppData\\Local\\Continuum\\Anaconda4\\envs\\cars\\lib\\site-packages\\keras\\engine\\training.py\u001b[0m in \u001b[0;36mfit\u001b[1;34m(self, x, y, batch_size, epochs, verbose, callbacks, validation_split, validation_data, shuffle, class_weight, sample_weight, initial_epoch, **kwargs)\u001b[0m\n\u001b[0;32m   1496\u001b[0m                               \u001b[0mval_f\u001b[0m\u001b[1;33m=\u001b[0m\u001b[0mval_f\u001b[0m\u001b[1;33m,\u001b[0m \u001b[0mval_ins\u001b[0m\u001b[1;33m=\u001b[0m\u001b[0mval_ins\u001b[0m\u001b[1;33m,\u001b[0m \u001b[0mshuffle\u001b[0m\u001b[1;33m=\u001b[0m\u001b[0mshuffle\u001b[0m\u001b[1;33m,\u001b[0m\u001b[1;33m\u001b[0m\u001b[0m\n\u001b[0;32m   1497\u001b[0m                               \u001b[0mcallback_metrics\u001b[0m\u001b[1;33m=\u001b[0m\u001b[0mcallback_metrics\u001b[0m\u001b[1;33m,\u001b[0m\u001b[1;33m\u001b[0m\u001b[0m\n\u001b[1;32m-> 1498\u001b[1;33m                               initial_epoch=initial_epoch)\n\u001b[0m\u001b[0;32m   1499\u001b[0m \u001b[1;33m\u001b[0m\u001b[0m\n\u001b[0;32m   1500\u001b[0m     \u001b[1;32mdef\u001b[0m \u001b[0mevaluate\u001b[0m\u001b[1;33m(\u001b[0m\u001b[0mself\u001b[0m\u001b[1;33m,\u001b[0m \u001b[0mx\u001b[0m\u001b[1;33m,\u001b[0m \u001b[0my\u001b[0m\u001b[1;33m,\u001b[0m \u001b[0mbatch_size\u001b[0m\u001b[1;33m=\u001b[0m\u001b[1;36m32\u001b[0m\u001b[1;33m,\u001b[0m \u001b[0mverbose\u001b[0m\u001b[1;33m=\u001b[0m\u001b[1;36m1\u001b[0m\u001b[1;33m,\u001b[0m \u001b[0msample_weight\u001b[0m\u001b[1;33m=\u001b[0m\u001b[1;32mNone\u001b[0m\u001b[1;33m)\u001b[0m\u001b[1;33m:\u001b[0m\u001b[1;33m\u001b[0m\u001b[0m\n",
      "\u001b[1;32mC:\\Users\\hbb9279\\AppData\\Local\\Continuum\\Anaconda4\\envs\\cars\\lib\\site-packages\\keras\\engine\\training.py\u001b[0m in \u001b[0;36m_fit_loop\u001b[1;34m(self, f, ins, out_labels, batch_size, epochs, verbose, callbacks, val_f, val_ins, shuffle, callback_metrics, initial_epoch)\u001b[0m\n\u001b[0;32m   1150\u001b[0m                 \u001b[0mbatch_logs\u001b[0m\u001b[1;33m[\u001b[0m\u001b[1;34m'size'\u001b[0m\u001b[1;33m]\u001b[0m \u001b[1;33m=\u001b[0m \u001b[0mlen\u001b[0m\u001b[1;33m(\u001b[0m\u001b[0mbatch_ids\u001b[0m\u001b[1;33m)\u001b[0m\u001b[1;33m\u001b[0m\u001b[0m\n\u001b[0;32m   1151\u001b[0m                 \u001b[0mcallbacks\u001b[0m\u001b[1;33m.\u001b[0m\u001b[0mon_batch_begin\u001b[0m\u001b[1;33m(\u001b[0m\u001b[0mbatch_index\u001b[0m\u001b[1;33m,\u001b[0m \u001b[0mbatch_logs\u001b[0m\u001b[1;33m)\u001b[0m\u001b[1;33m\u001b[0m\u001b[0m\n\u001b[1;32m-> 1152\u001b[1;33m                 \u001b[0mouts\u001b[0m \u001b[1;33m=\u001b[0m \u001b[0mf\u001b[0m\u001b[1;33m(\u001b[0m\u001b[0mins_batch\u001b[0m\u001b[1;33m)\u001b[0m\u001b[1;33m\u001b[0m\u001b[0m\n\u001b[0m\u001b[0;32m   1153\u001b[0m                 \u001b[1;32mif\u001b[0m \u001b[1;32mnot\u001b[0m \u001b[0misinstance\u001b[0m\u001b[1;33m(\u001b[0m\u001b[0mouts\u001b[0m\u001b[1;33m,\u001b[0m \u001b[0mlist\u001b[0m\u001b[1;33m)\u001b[0m\u001b[1;33m:\u001b[0m\u001b[1;33m\u001b[0m\u001b[0m\n\u001b[0;32m   1154\u001b[0m                     \u001b[0mouts\u001b[0m \u001b[1;33m=\u001b[0m \u001b[1;33m[\u001b[0m\u001b[0mouts\u001b[0m\u001b[1;33m]\u001b[0m\u001b[1;33m\u001b[0m\u001b[0m\n",
      "\u001b[1;32mC:\\Users\\hbb9279\\AppData\\Local\\Continuum\\Anaconda4\\envs\\cars\\lib\\site-packages\\keras\\backend\\tensorflow_backend.py\u001b[0m in \u001b[0;36m__call__\u001b[1;34m(self, inputs)\u001b[0m\n\u001b[0;32m   2227\u001b[0m         \u001b[0msession\u001b[0m \u001b[1;33m=\u001b[0m \u001b[0mget_session\u001b[0m\u001b[1;33m(\u001b[0m\u001b[1;33m)\u001b[0m\u001b[1;33m\u001b[0m\u001b[0m\n\u001b[0;32m   2228\u001b[0m         updated = session.run(self.outputs + [self.updates_op],\n\u001b[1;32m-> 2229\u001b[1;33m                               feed_dict=feed_dict)\n\u001b[0m\u001b[0;32m   2230\u001b[0m         \u001b[1;32mreturn\u001b[0m \u001b[0mupdated\u001b[0m\u001b[1;33m[\u001b[0m\u001b[1;33m:\u001b[0m\u001b[0mlen\u001b[0m\u001b[1;33m(\u001b[0m\u001b[0mself\u001b[0m\u001b[1;33m.\u001b[0m\u001b[0moutputs\u001b[0m\u001b[1;33m)\u001b[0m\u001b[1;33m]\u001b[0m\u001b[1;33m\u001b[0m\u001b[0m\n\u001b[0;32m   2231\u001b[0m \u001b[1;33m\u001b[0m\u001b[0m\n",
      "\u001b[1;32mC:\\Users\\hbb9279\\AppData\\Local\\Continuum\\Anaconda4\\envs\\cars\\lib\\site-packages\\tensorflow\\python\\client\\session.py\u001b[0m in \u001b[0;36mrun\u001b[1;34m(self, fetches, feed_dict, options, run_metadata)\u001b[0m\n\u001b[0;32m    776\u001b[0m     \u001b[1;32mtry\u001b[0m\u001b[1;33m:\u001b[0m\u001b[1;33m\u001b[0m\u001b[0m\n\u001b[0;32m    777\u001b[0m       result = self._run(None, fetches, feed_dict, options_ptr,\n\u001b[1;32m--> 778\u001b[1;33m                          run_metadata_ptr)\n\u001b[0m\u001b[0;32m    779\u001b[0m       \u001b[1;32mif\u001b[0m \u001b[0mrun_metadata\u001b[0m\u001b[1;33m:\u001b[0m\u001b[1;33m\u001b[0m\u001b[0m\n\u001b[0;32m    780\u001b[0m         \u001b[0mproto_data\u001b[0m \u001b[1;33m=\u001b[0m \u001b[0mtf_session\u001b[0m\u001b[1;33m.\u001b[0m\u001b[0mTF_GetBuffer\u001b[0m\u001b[1;33m(\u001b[0m\u001b[0mrun_metadata_ptr\u001b[0m\u001b[1;33m)\u001b[0m\u001b[1;33m\u001b[0m\u001b[0m\n",
      "\u001b[1;32mC:\\Users\\hbb9279\\AppData\\Local\\Continuum\\Anaconda4\\envs\\cars\\lib\\site-packages\\tensorflow\\python\\client\\session.py\u001b[0m in \u001b[0;36m_run\u001b[1;34m(self, handle, fetches, feed_dict, options, run_metadata)\u001b[0m\n\u001b[0;32m    980\u001b[0m     \u001b[1;32mif\u001b[0m \u001b[0mfinal_fetches\u001b[0m \u001b[1;32mor\u001b[0m \u001b[0mfinal_targets\u001b[0m\u001b[1;33m:\u001b[0m\u001b[1;33m\u001b[0m\u001b[0m\n\u001b[0;32m    981\u001b[0m       results = self._do_run(handle, final_targets, final_fetches,\n\u001b[1;32m--> 982\u001b[1;33m                              feed_dict_string, options, run_metadata)\n\u001b[0m\u001b[0;32m    983\u001b[0m     \u001b[1;32melse\u001b[0m\u001b[1;33m:\u001b[0m\u001b[1;33m\u001b[0m\u001b[0m\n\u001b[0;32m    984\u001b[0m       \u001b[0mresults\u001b[0m \u001b[1;33m=\u001b[0m \u001b[1;33m[\u001b[0m\u001b[1;33m]\u001b[0m\u001b[1;33m\u001b[0m\u001b[0m\n",
      "\u001b[1;32mC:\\Users\\hbb9279\\AppData\\Local\\Continuum\\Anaconda4\\envs\\cars\\lib\\site-packages\\tensorflow\\python\\client\\session.py\u001b[0m in \u001b[0;36m_do_run\u001b[1;34m(self, handle, target_list, fetch_list, feed_dict, options, run_metadata)\u001b[0m\n\u001b[0;32m   1030\u001b[0m     \u001b[1;32mif\u001b[0m \u001b[0mhandle\u001b[0m \u001b[1;32mis\u001b[0m \u001b[1;32mNone\u001b[0m\u001b[1;33m:\u001b[0m\u001b[1;33m\u001b[0m\u001b[0m\n\u001b[0;32m   1031\u001b[0m       return self._do_call(_run_fn, self._session, feed_dict, fetch_list,\n\u001b[1;32m-> 1032\u001b[1;33m                            target_list, options, run_metadata)\n\u001b[0m\u001b[0;32m   1033\u001b[0m     \u001b[1;32melse\u001b[0m\u001b[1;33m:\u001b[0m\u001b[1;33m\u001b[0m\u001b[0m\n\u001b[0;32m   1034\u001b[0m       return self._do_call(_prun_fn, self._session, handle, feed_dict,\n",
      "\u001b[1;32mC:\\Users\\hbb9279\\AppData\\Local\\Continuum\\Anaconda4\\envs\\cars\\lib\\site-packages\\tensorflow\\python\\client\\session.py\u001b[0m in \u001b[0;36m_do_call\u001b[1;34m(self, fn, *args)\u001b[0m\n\u001b[0;32m   1037\u001b[0m   \u001b[1;32mdef\u001b[0m \u001b[0m_do_call\u001b[0m\u001b[1;33m(\u001b[0m\u001b[0mself\u001b[0m\u001b[1;33m,\u001b[0m \u001b[0mfn\u001b[0m\u001b[1;33m,\u001b[0m \u001b[1;33m*\u001b[0m\u001b[0margs\u001b[0m\u001b[1;33m)\u001b[0m\u001b[1;33m:\u001b[0m\u001b[1;33m\u001b[0m\u001b[0m\n\u001b[0;32m   1038\u001b[0m     \u001b[1;32mtry\u001b[0m\u001b[1;33m:\u001b[0m\u001b[1;33m\u001b[0m\u001b[0m\n\u001b[1;32m-> 1039\u001b[1;33m       \u001b[1;32mreturn\u001b[0m \u001b[0mfn\u001b[0m\u001b[1;33m(\u001b[0m\u001b[1;33m*\u001b[0m\u001b[0margs\u001b[0m\u001b[1;33m)\u001b[0m\u001b[1;33m\u001b[0m\u001b[0m\n\u001b[0m\u001b[0;32m   1040\u001b[0m     \u001b[1;32mexcept\u001b[0m \u001b[0merrors\u001b[0m\u001b[1;33m.\u001b[0m\u001b[0mOpError\u001b[0m \u001b[1;32mas\u001b[0m \u001b[0me\u001b[0m\u001b[1;33m:\u001b[0m\u001b[1;33m\u001b[0m\u001b[0m\n\u001b[0;32m   1041\u001b[0m       \u001b[0mmessage\u001b[0m \u001b[1;33m=\u001b[0m \u001b[0mcompat\u001b[0m\u001b[1;33m.\u001b[0m\u001b[0mas_text\u001b[0m\u001b[1;33m(\u001b[0m\u001b[0me\u001b[0m\u001b[1;33m.\u001b[0m\u001b[0mmessage\u001b[0m\u001b[1;33m)\u001b[0m\u001b[1;33m\u001b[0m\u001b[0m\n",
      "\u001b[1;32mC:\\Users\\hbb9279\\AppData\\Local\\Continuum\\Anaconda4\\envs\\cars\\lib\\site-packages\\tensorflow\\python\\client\\session.py\u001b[0m in \u001b[0;36m_run_fn\u001b[1;34m(session, feed_dict, fetch_list, target_list, options, run_metadata)\u001b[0m\n\u001b[0;32m   1019\u001b[0m         return tf_session.TF_Run(session, options,\n\u001b[0;32m   1020\u001b[0m                                  \u001b[0mfeed_dict\u001b[0m\u001b[1;33m,\u001b[0m \u001b[0mfetch_list\u001b[0m\u001b[1;33m,\u001b[0m \u001b[0mtarget_list\u001b[0m\u001b[1;33m,\u001b[0m\u001b[1;33m\u001b[0m\u001b[0m\n\u001b[1;32m-> 1021\u001b[1;33m                                  status, run_metadata)\n\u001b[0m\u001b[0;32m   1022\u001b[0m \u001b[1;33m\u001b[0m\u001b[0m\n\u001b[0;32m   1023\u001b[0m     \u001b[1;32mdef\u001b[0m \u001b[0m_prun_fn\u001b[0m\u001b[1;33m(\u001b[0m\u001b[0msession\u001b[0m\u001b[1;33m,\u001b[0m \u001b[0mhandle\u001b[0m\u001b[1;33m,\u001b[0m \u001b[0mfeed_dict\u001b[0m\u001b[1;33m,\u001b[0m \u001b[0mfetch_list\u001b[0m\u001b[1;33m)\u001b[0m\u001b[1;33m:\u001b[0m\u001b[1;33m\u001b[0m\u001b[0m\n",
      "\u001b[1;31mKeyboardInterrupt\u001b[0m: "
     ]
    }
   ],
   "source": [
    "train = train_data\n",
    "X = np.array([i[0] for i in train]).reshape(-1, WIDTH, HEIGHT, 3)\n",
    "X = X.astype('float32')/127.0 - 1\n",
    "Y = [i[1] for i in train]\n",
    "real_Y = keras.utils.to_categorical(Y, num_classes=9)\n",
    "print (X.shape, train.shape)\n",
    "model.compile(optimizer='rmsprop', loss='categorical_crossentropy',   metrics=['accuracy'])\n",
    "#test_y = [j[1] for j in test]\n",
    "model.fit(X, real_Y, epochs=EPOCHS, batch_size=500,\n",
    "             verbose=1, validation_split=0.1,  callbacks=[TensorBoard(log_dir='./logs/', write_images=True)])\n",
    "# tensorboard --logdir=foo:C:/Users/hbb9279/Desktop/ai/log"
   ]
  },
  {
   "cell_type": "code",
   "execution_count": 7,
   "metadata": {
    "collapsed": true
   },
   "outputs": [],
   "source": [
    "model.save(MODEL_NAME)"
   ]
  },
  {
   "cell_type": "code",
   "execution_count": 13,
   "metadata": {},
   "outputs": [
    {
     "name": "stdout",
     "output_type": "stream",
     "text": [
      "[[  1.50267395e-21   4.00348066e-09   4.47087124e-11   1.00825503e-06\n",
      "    2.88934680e-05   9.99969244e-01   8.72109467e-07   1.25293365e-09\n",
      "    7.07067460e-10]]\n",
      "5\n"
     ]
    }
   ],
   "source": [
    "test = train_data[-500:]\n",
    "test_x = np.array([i[0] for i in test]).reshape(-1,WIDTH,HEIGHT,3)\n",
    "test_x = test_x.astype('float32') / 255.\n",
    "test_y = [j[1] for j in test]\n",
    "print (model.predict(X[400].reshape(-1, 80,60,3)))\n",
    "print (Y[400])"
   ]
  },
  {
   "cell_type": "code",
   "execution_count": 14,
   "metadata": {},
   "outputs": [
    {
     "data": {
      "text/plain": [
       "1"
      ]
     },
     "execution_count": 14,
     "metadata": {},
     "output_type": "execute_result"
    }
   ],
   "source": [
    "test_y[1]"
   ]
  },
  {
   "cell_type": "code",
   "execution_count": 15,
   "metadata": {},
   "outputs": [
    {
     "data": {
      "text/plain": [
       "array([  7.90870928e-12,   1.56739421e-04,   8.55845034e-01,\n",
       "         1.43828347e-01,   1.16979129e-04,   4.66192505e-05,\n",
       "         5.68655742e-06,   6.95595546e-08,   3.85342162e-07], dtype=float32)"
      ]
     },
     "execution_count": 15,
     "metadata": {},
     "output_type": "execute_result"
    }
   ],
   "source": [
    "model.predict(test_x[1].reshape(-1, 80,60,3))[0]"
   ]
  },
  {
   "cell_type": "code",
   "execution_count": 16,
   "metadata": {},
   "outputs": [
    {
     "data": {
      "text/plain": [
       "1.0"
      ]
     },
     "execution_count": 16,
     "metadata": {},
     "output_type": "execute_result"
    }
   ],
   "source": [
    "np.ceil(model.predict(test_x[400].reshape(-1,80,60,3))/45)[0][0]"
   ]
  },
  {
   "cell_type": "code",
   "execution_count": 17,
   "metadata": {},
   "outputs": [
    {
     "data": {
      "text/plain": [
       "0.022222222222222223"
      ]
     },
     "execution_count": 17,
     "metadata": {},
     "output_type": "execute_result"
    }
   ],
   "source": [
    "test_y[400]/45"
   ]
  },
  {
   "cell_type": "code",
   "execution_count": null,
   "metadata": {
    "collapsed": true
   },
   "outputs": [],
   "source": []
  }
 ],
 "metadata": {
  "kernelspec": {
   "display_name": "Python 3",
   "language": "python",
   "name": "python3"
  },
  "language_info": {
   "codemirror_mode": {
    "name": "ipython",
    "version": 3
   },
   "file_extension": ".py",
   "mimetype": "text/x-python",
   "name": "python",
   "nbconvert_exporter": "python",
   "pygments_lexer": "ipython3",
   "version": "3.5.2"
  },
  "widgets": {
   "state": {},
   "version": "1.1.2"
  }
 },
 "nbformat": 4,
 "nbformat_minor": 2
}
